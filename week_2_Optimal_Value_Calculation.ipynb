{
  "nbformat": 4,
  "nbformat_minor": 0,
  "metadata": {
    "colab": {
      "provenance": [],
      "authorship_tag": "ABX9TyOWupJ2bQmvuD330hU4lhYg",
      "include_colab_link": true
    },
    "kernelspec": {
      "name": "python3",
      "display_name": "Python 3"
    },
    "language_info": {
      "name": "python"
    }
  },
  "cells": [
    {
      "cell_type": "markdown",
      "metadata": {
        "id": "view-in-github",
        "colab_type": "text"
      },
      "source": [
        "<a href=\"https://colab.research.google.com/github/sagarpyakurel/week222/blob/main/week_2_Optimal_Value_Calculation.ipynb\" target=\"_parent\"><img src=\"https://colab.research.google.com/assets/colab-badge.svg\" alt=\"Open In Colab\"/></a>"
      ]
    },
    {
      "cell_type": "markdown",
      "source": [
        "## Assignment\n",
        "\n",
        "Given the table $S(i,r)$ returned by method ``simple_knapsack`` above, contruct the the optimal subset of the most valuable items.\n",
        "\n",
        "*Hints:* write a method that takes the same parameters as ``simple_knapsack`` earlier, and the list `S`. The method returns a list of item labels; for example `[2,3,4]` together with their total weight `weight[1]+weight[2]weight[3]` and the total value `value[1]+value[2]+value[3]`."
      ],
      "metadata": {
        "id": "VpwKqhNX59GO"
      }
    },
    {
      "cell_type": "code",
      "source": [
        "def simple_knapsack(value, weight, c_max):\n",
        "  # arrays must have same length\n",
        "  if len(value) != len(weight):\n",
        "    return None\n",
        "  # Number of items\n",
        "  n = len(value)\n",
        "  # Create output array with n + 1 rows and as many rows as max capacity + 1\n",
        "  # The +1 is to allow room for the S(0,r) and S(i,0) scenarios. The\n",
        "  # initialization below takes care of S(0,r) = 0 and S(i,0) = 0 assignments.\n",
        "  S = [[0 for _ in range(1+c_max)] for _ in range(1+n) ]\n",
        "  # Explore all not trivial cases\n",
        "  for i in range(1,n+1):\n",
        "    for residual_capacity in range(1,c_max+1):\n",
        "      # The most valuable subset among the first i items in the collection whose\n",
        "      # total weight is at-or-below r has value S(i,r).\n",
        "      if weight[i-1] > residual_capacity:\n",
        "        # i-th item cannot be included in subset, use immediately smaller subset\n",
        "        # We index to i-1 because values and weights are plain lists, and their\n",
        "        # first elements are in [0]\n",
        "        S[i][residual_capacity] = S[i-1][residual_capacity]\n",
        "      else:\n",
        "        # If there is room for the i-th item, it is more profitable to take it\n",
        "        # or leave it?\n",
        "        S[i][residual_capacity] = max(\n",
        "            S[i-1][residual_capacity],\n",
        "            value[i-1]+S[i-1][residual_capacity-weight[i-1]])\n",
        "  return S\n",
        "\n",
        "# A simple test\n",
        "values = [5,4,3,2]\n",
        "weights = [4,3,2,1]\n",
        "c_max = 6\n",
        "simple_knapsack(values, weights, c_max)"
      ],
      "metadata": {
        "id": "3aAGxtCBh-nk",
        "outputId": "c61e2dfb-7335-4575-dc6d-a7cec92f0f97",
        "colab": {
          "base_uri": "https://localhost:8080/"
        }
      },
      "execution_count": null,
      "outputs": [
        {
          "output_type": "execute_result",
          "data": {
            "text/plain": [
              "[[0, 0, 0, 0, 0, 0, 0],\n",
              " [0, 0, 0, 0, 5, 5, 5],\n",
              " [0, 0, 0, 4, 5, 5, 5],\n",
              " [0, 0, 3, 4, 5, 7, 8],\n",
              " [0, 2, 3, 5, 6, 7, 9]]"
            ]
          },
          "metadata": {},
          "execution_count": 1
        }
      ]
    },
    {
      "cell_type": "code",
      "source": [
        "def find_optimal_subset(value, weight, S, c_max):\n",
        "    n = len(value)\n",
        "    # Initialize\n",
        "    selected_items = []\n",
        "    total_weight = 0\n",
        "    total_value = 0\n",
        "\n",
        "    # Start from the bottom-right corner of the table\n",
        "    i, residual_capacity = n, c_max\n",
        "\n",
        "    while i > 0 and residual_capacity > 0:\n",
        "        # Check if the item was included in the optimal subset\n",
        "        if S[i][residual_capacity] != S[i-1][residual_capacity]:\n",
        "            # Item i-1 is included\n",
        "            selected_items.append(i)  # Append 1-based index\n",
        "            total_weight += weight[i-1]\n",
        "            total_value += value[i-1]\n",
        "            residual_capacity -= weight[i-1]\n",
        "        i -= 1\n",
        "\n",
        "    # Return the list of selected item indices, total weight, and total value\n",
        "    return selected_items, total_weight, total_value\n",
        "\n",
        "\n",
        "\n",
        "\n",
        "\n",
        "S = simple_knapsack(values, weights, c_max)\n",
        "\n",
        "# Find the optimal subset\n",
        "selected_items, total_weight, total_value = find_optimal_subset(values, weights, S, c_max)\n",
        "\n",
        "print(f\"Selected items: {selected_items}\")\n",
        "print(f\"Total weight: {total_weight}\")\n",
        "print(f\"Total value: {total_value}\")\n"
      ],
      "metadata": {
        "id": "V4uLxz575-OV",
        "colab": {
          "base_uri": "https://localhost:8080/"
        },
        "outputId": "00dbb057-5f74-464c-8df7-5f4f1ae1a866"
      },
      "execution_count": null,
      "outputs": [
        {
          "output_type": "stream",
          "name": "stdout",
          "text": [
            "Selected items: [4, 3, 2]\n",
            "Total weight: 6\n",
            "Total value: 9\n"
          ]
        }
      ]
    }
  ]
}